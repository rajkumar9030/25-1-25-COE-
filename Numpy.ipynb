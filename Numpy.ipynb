{
 "cells": [
  {
   "cell_type": "code",
   "execution_count": 1,
   "id": "ca142f1e",
   "metadata": {},
   "outputs": [
    {
     "name": "stdout",
     "output_type": "stream",
     "text": [
      "Requirement already satisfied: numpy in c:\\users\\cvr\\anaconda3\\lib\\site-packages (1.24.3)\n"
     ]
    }
   ],
   "source": [
    "!pip install numpy\n"
   ]
  },
  {
   "cell_type": "code",
   "execution_count": 46,
   "id": "2e6a5057",
   "metadata": {},
   "outputs": [
    {
     "name": "stdout",
     "output_type": "stream",
     "text": [
      "1\n",
      "\n",
      "2\n",
      "\n",
      "3\n",
      "\n",
      "int32\n",
      "(2, 2, 4)\n",
      "16\n",
      "2\n"
     ]
    },
    {
     "ename": "IndexError",
     "evalue": "index 3 is out of bounds for axis 0 with size 3",
     "output_type": "error",
     "traceback": [
      "\u001b[1;31m---------------------------------------------------------------------------\u001b[0m",
      "\u001b[1;31mIndexError\u001b[0m                                Traceback (most recent call last)",
      "Cell \u001b[1;32mIn[46], line 15\u001b[0m\n\u001b[0;32m     13\u001b[0m \u001b[38;5;28mprint\u001b[39m(three_d_array\u001b[38;5;241m.\u001b[39msize)\n\u001b[0;32m     14\u001b[0m \u001b[38;5;28mprint\u001b[39m(two_d_array[\u001b[38;5;241m0\u001b[39m][\u001b[38;5;241m1\u001b[39m])\n\u001b[1;32m---> 15\u001b[0m \u001b[38;5;28mprint\u001b[39m(two_d_array[\u001b[38;5;241m1\u001b[39m][\u001b[38;5;241m3\u001b[39m])\n\u001b[0;32m     16\u001b[0m \u001b[38;5;28mprint\u001b[39m(two_d_array[\u001b[38;5;241m0\u001b[39m:\u001b[38;5;241m1\u001b[39m,\u001b[38;5;241m0\u001b[39m:\u001b[38;5;241m2\u001b[39m])\n",
      "\u001b[1;31mIndexError\u001b[0m: index 3 is out of bounds for axis 0 with size 3"
     ]
    }
   ],
   "source": [
    "import numpy as np\n",
    "one_d_array=np.array([1,23,5,5,5])\n",
    "two_d_array=np.array([[1,2,3],[12,3,5]])\n",
    "three_d_array=np.array([[[1,2,3,4],[3,45,6,7]],[[1,2,4,6],[34,5,45,5]]])\n",
    "print(np.ndim(one_d_array))\n",
    "print()\n",
    "print(np.ndim(two_d_array))\n",
    "print()\n",
    "print(np.ndim(three_d_array))\n",
    "print()\n",
    "print(three_d_array.dtype)\n",
    "print(three_d_array.shape)\n",
    "print(three_d_array.size)\n",
    "print(two_d_array[0][1])\n",
    "print(two_d_array[1][3])\n",
    "print(two_d_array[0:1,0:2])"
   ]
  },
  {
   "cell_type": "code",
   "execution_count": 13,
   "id": "3e3d81fd",
   "metadata": {},
   "outputs": [
    {
     "data": {
      "text/plain": [
       "array([[0., 0., 0., 0., 0., 0., 0.],\n",
       "       [0., 0., 0., 0., 0., 0., 0.],\n",
       "       [0., 0., 0., 0., 0., 0., 0.],\n",
       "       [0., 0., 0., 0., 0., 0., 0.]])"
      ]
     },
     "execution_count": 13,
     "metadata": {},
     "output_type": "execute_result"
    }
   ],
   "source": [
    "ar1=np.zeros((4,7))\n",
    "ar1"
   ]
  },
  {
   "cell_type": "code",
   "execution_count": 15,
   "id": "d10a05b8",
   "metadata": {},
   "outputs": [
    {
     "data": {
      "text/plain": [
       "array([[1., 1., 1.],\n",
       "       [1., 1., 1.],\n",
       "       [1., 1., 1.]])"
      ]
     },
     "execution_count": 15,
     "metadata": {},
     "output_type": "execute_result"
    }
   ],
   "source": [
    "ar2=np.ones((3,3))\n",
    "ar2"
   ]
  },
  {
   "cell_type": "code",
   "execution_count": 18,
   "id": "c752f722",
   "metadata": {},
   "outputs": [
    {
     "data": {
      "text/plain": [
       "array([[0.29934498, 0.98952644, 0.11390546, 0.42005606],\n",
       "       [0.55409145, 0.76937941, 0.70486141, 0.3794601 ],\n",
       "       [0.25177502, 0.61695715, 0.13655528, 0.20687793],\n",
       "       [0.70853555, 0.19406105, 0.42709698, 0.94840588]])"
      ]
     },
     "execution_count": 18,
     "metadata": {},
     "output_type": "execute_result"
    }
   ],
   "source": [
    "random_arr=np.random.random((4,4))\n",
    "random_arr\n"
   ]
  },
  {
   "cell_type": "code",
   "execution_count": 19,
   "id": "380397cc",
   "metadata": {},
   "outputs": [
    {
     "data": {
      "text/plain": [
       "array([[1., 0., 0., 0.],\n",
       "       [0., 1., 0., 0.],\n",
       "       [0., 0., 1., 0.],\n",
       "       [0., 0., 0., 1.]])"
      ]
     },
     "execution_count": 19,
     "metadata": {},
     "output_type": "execute_result"
    }
   ],
   "source": [
    "identity=np.eye(4)\n",
    "identity"
   ]
  },
  {
   "cell_type": "code",
   "execution_count": 22,
   "id": "e25d79ee",
   "metadata": {},
   "outputs": [
    {
     "data": {
      "text/plain": [
       "array([0, 4, 8])"
      ]
     },
     "execution_count": 22,
     "metadata": {},
     "output_type": "execute_result"
    }
   ],
   "source": [
    "rearange_arr=np.arange(0,10,4)\n",
    "rearange_arr"
   ]
  },
  {
   "cell_type": "code",
   "execution_count": 48,
   "id": "6a039c99",
   "metadata": {},
   "outputs": [
    {
     "data": {
      "text/plain": [
       "array([ 2, 46, 75])"
      ]
     },
     "execution_count": 48,
     "metadata": {},
     "output_type": "execute_result"
    }
   ],
   "source": [
    "a=np.array([1,23,25])\n",
    "b=np.array([1,23,50])\n",
    "c=a+b\n",
    "c"
   ]
  },
  {
   "cell_type": "code",
   "execution_count": 49,
   "id": "24312461",
   "metadata": {},
   "outputs": [
    {
     "data": {
      "text/plain": [
       "array([   1,  529, 1250])"
      ]
     },
     "execution_count": 49,
     "metadata": {},
     "output_type": "execute_result"
    }
   ],
   "source": [
    "a=np.array([1,23,25])\n",
    "b=np.array([1,23,50])\n",
    "c=a*b\n",
    "c"
   ]
  },
  {
   "cell_type": "code",
   "execution_count": 60,
   "id": "b349b93c",
   "metadata": {},
   "outputs": [
    {
     "name": "stdout",
     "output_type": "stream",
     "text": [
      "[[ 31  43  55]\n",
      " [ 52  73  94]\n",
      " [ 73 103 133]]\n"
     ]
    }
   ],
   "source": [
    "f = np.array([[1, 2, 3], [2, 3, 4], [4, 5, 6]])\n",
    "g = np.array([[3, 4, 5], [6, 7, 8], [9, 10, 11]])\n",
    "j = np.dot(g, f)\n",
    "print(j)"
   ]
  },
  {
   "cell_type": "code",
   "execution_count": 63,
   "id": "8ff485ac",
   "metadata": {},
   "outputs": [
    {
     "data": {
      "text/plain": [
       "[<matplotlib.lines.Line2D at 0x216e0cb6f50>,\n",
       " <matplotlib.lines.Line2D at 0x216e158f190>,\n",
       " <matplotlib.lines.Line2D at 0x216e158f690>]"
      ]
     },
     "execution_count": 63,
     "metadata": {},
     "output_type": "execute_result"
    },
    {
     "data": {
      "image/png": "[encoded data removed]",
      "text/plain": [
       "<Figure size 640x480 with 1 Axes>"
      ]
     },
     "metadata": {},
     "output_type": "display_data"
    }
   ],
   "source": [
    "import matplotlib.pyplot as plt\n",
    "plt.plot(j)"
   ]
  },
  {
   "cell_type": "code",
   "execution_count": 66,
   "id": "9663ec99",
   "metadata": {},
   "outputs": [
    {
     "name": "stdout",
     "output_type": "stream",
     "text": [
      "[1.         4.79583152 5.        ]\n",
      "[0.         3.13549422 3.21887582]\n",
      "[2.71828183e+00 9.74480345e+09 7.20048993e+10]\n"
     ]
    }
   ],
   "source": [
    "print(np.sqrt(a))\n",
    "print(np.log(a))\n",
    "print(np.exp(a))"
   ]
  },
  {
   "cell_type": "code",
   "execution_count": 67,
   "id": "a52417e7",
   "metadata": {},
   "outputs": [
    {
     "name": "stdout",
     "output_type": "stream",
     "text": [
      "49\n",
      "16.333333333333332\n",
      "23.0\n",
      "25\n",
      "1\n"
     ]
    }
   ],
   "source": [
    "print(np.sum(a))\n",
    "print(np.mean(a))\n",
    "print(np.median(a))\n",
    "print(np.max(a))\n",
    "print(np.min(a))"
   ]
  },
  {
   "cell_type": "code",
   "execution_count": 71,
   "id": "eba0d654",
   "metadata": {},
   "outputs": [
    {
     "data": {
      "text/plain": [
       "array([[ 1, 23,  4],\n",
       "       [33, 23, 42]])"
      ]
     },
     "execution_count": 71,
     "metadata": {},
     "output_type": "execute_result"
    }
   ],
   "source": [
    "ar=np.array([1,23,4,33,23,42])\n",
    "reshape2=ar.reshape(2,3)\n",
    "reshape2"
   ]
  },
  {
   "cell_type": "code",
   "execution_count": 74,
   "id": "a5292d14",
   "metadata": {},
   "outputs": [
    {
     "name": "stdout",
     "output_type": "stream",
     "text": [
      "[[1 2]\n",
      " [3 4]]\n",
      "[1 2 3 4]\n"
     ]
    }
   ],
   "source": [
    "l=np.array([1,2])\n",
    "m=np.array([3,4])\n",
    "print(np.vstack((l,m)))\n",
    "print(np.hstack((l,m)))\n"
   ]
  },
  {
   "cell_type": "code",
   "execution_count": 88,
   "id": "270a5300",
   "metadata": {},
   "outputs": [
    {
     "data": {
      "text/plain": [
       "[array([12,  3]), array([ 4, 54]), array([45, 23])]"
      ]
     },
     "execution_count": 88,
     "metadata": {},
     "output_type": "execute_result"
    }
   ],
   "source": [
    "ad=np.array([12,3,4,54,45,23])\n",
    "split=np.split(ad,3)\n",
    "split"
   ]
  },
  {
   "cell_type": "code",
   "execution_count": 89,
   "id": "eaaacc34",
   "metadata": {},
   "outputs": [
    {
     "data": {
      "text/plain": [
       "array([23489,     3,    34,     2])"
      ]
     },
     "execution_count": 89,
     "metadata": {},
     "output_type": "execute_result"
    }
   ],
   "source": [
    " k=np.array([12,3,34,2])\n",
    "view=k.view()\n",
    "view[0]=23489\n",
    "view\n",
    "\n",
    "    "
   ]
  },
  {
   "cell_type": "code",
   "execution_count": 90,
   "id": "fdef5589",
   "metadata": {},
   "outputs": [
    {
     "data": {
      "text/plain": [
       "array([798,   3,  34,   2])"
      ]
     },
     "execution_count": 90,
     "metadata": {},
     "output_type": "execute_result"
    }
   ],
   "source": [
    " k=np.array([12,3,34,2])\n",
    "view=k.copy()\n",
    "view[0]=798\n",
    "view\n"
   ]
  },
  {
   "cell_type": "code",
   "execution_count": 93,
   "id": "9e0bea98",
   "metadata": {},
   "outputs": [],
   "source": [
    "arr=np.array([1,3,4])\n",
    "np.save(\"array.npy\",arr)"
   ]
  },
  {
   "cell_type": "code",
   "execution_count": 94,
   "id": "1d9de200",
   "metadata": {},
   "outputs": [
    {
     "data": {
      "text/plain": [
       "array([1, 3, 4])"
      ]
     },
     "execution_count": 94,
     "metadata": {},
     "output_type": "execute_result"
    }
   ],
   "source": [
    "loaded_arr=np.load(\"array.npy\")\n",
    "loaded_arr"
   ]
  },
  {
   "cell_type": "code",
   "execution_count": null,
   "id": "7876fc7c",
   "metadata": {},
   "outputs": [],
   "source": []
  }
 ],
 "metadata": {
  "kernelspec": {
   "display_name": "Python 3 (ipykernel)",
   "language": "python",
   "name": "python3"
  },
  "language_info": {
   "codemirror_mode": {
    "name": "ipython",
    "version": 3
   },
   "file_extension": ".py",
   "mimetype": "text/x-python",
   "name": "python",
   "nbconvert_exporter": "python",
   "pygments_lexer": "ipython3",
   "version": "3.11.5"
  }
 },
 "nbformat": 4,
 "nbformat_minor": 5
}
